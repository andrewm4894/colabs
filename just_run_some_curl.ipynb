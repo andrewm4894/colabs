{
  "nbformat": 4,
  "nbformat_minor": 0,
  "metadata": {
    "colab": {
      "provenance": [],
      "collapsed_sections": [],
      "authorship_tag": "ABX9TyNiMFvl2kjq2XdlV+btQrJY",
      "include_colab_link": true
    },
    "kernelspec": {
      "name": "python3",
      "display_name": "Python 3"
    },
    "language_info": {
      "name": "python"
    }
  },
  "cells": [
    {
      "cell_type": "markdown",
      "metadata": {
        "id": "view-in-github",
        "colab_type": "text"
      },
      "source": [
        "<a href=\"https://colab.research.google.com/github/andrewm4894/colabs/blob/master/just_run_some_curl.ipynb\" target=\"_parent\"><img src=\"https://colab.research.google.com/assets/colab-badge.svg\" alt=\"Open In Colab\"/></a>"
      ]
    },
    {
      "cell_type": "markdown",
      "source": [
        "Just run some curl comand and get response back in python"
      ],
      "metadata": {
        "id": "X_88uDPpFBM0"
      }
    },
    {
      "cell_type": "code",
      "source": [
        "import json\n",
        "import os"
      ],
      "metadata": {
        "id": "fGja608C7g9W"
      },
      "execution_count": 5,
      "outputs": []
    },
    {
      "cell_type": "code",
      "execution_count": 6,
      "metadata": {
        "id": "ISGmyWd47NWR"
      },
      "outputs": [],
      "source": [
        "# paste curl command in here\n",
        "curl = \"\"\"\n",
        "curl https://london.my-netdata.io/api/v1/allmetrics?format=json\n",
        "\"\"\""
      ]
    },
    {
      "cell_type": "code",
      "source": [
        "# run curl comand and load response into a json dict\n",
        "response = json.loads(os.popen(curl).read())"
      ],
      "metadata": {
        "id": "ZACkeXyE7p4s"
      },
      "execution_count": 8,
      "outputs": []
    },
    {
      "cell_type": "code",
      "source": [
        "# do whatever you want with the response\n",
        "response['system.cpu']['dimensions']"
      ],
      "metadata": {
        "colab": {
          "base_uri": "https://localhost:8080/"
        },
        "id": "cauHkufGFTwi",
        "outputId": "c1a0f01d-4e78-46f4-f70c-0faba2fd3bc8"
      },
      "execution_count": 11,
      "outputs": [
        {
          "output_type": "execute_result",
          "data": {
            "text/plain": [
              "{'guest_nice': {'name': 'guest_nice', 'value': 0.0},\n",
              " 'guest': {'name': 'guest', 'value': 0.0},\n",
              " 'steal': {'name': 'steal', 'value': 0.0},\n",
              " 'softirq': {'name': 'softirq', 'value': 0.25},\n",
              " 'irq': {'name': 'irq', 'value': 0.0},\n",
              " 'user': {'name': 'user', 'value': 1.5},\n",
              " 'system': {'name': 'system', 'value': 1.0},\n",
              " 'nice': {'name': 'nice', 'value': 0.0},\n",
              " 'iowait': {'name': 'iowait', 'value': 0.25},\n",
              " 'idle': {'name': 'idle', 'value': 97.0}}"
            ]
          },
          "metadata": {},
          "execution_count": 11
        }
      ]
    }
  ]
}