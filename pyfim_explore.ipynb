{
  "nbformat": 4,
  "nbformat_minor": 0,
  "metadata": {
    "colab": {
      "name": "pyfim_explore.ipynb",
      "provenance": [],
      "collapsed_sections": [],
      "authorship_tag": "ABX9TyPjTZcx9ih2K4LRs8XDTWCp",
      "include_colab_link": true
    },
    "kernelspec": {
      "name": "python3",
      "display_name": "Python 3"
    }
  },
  "cells": [
    {
      "cell_type": "markdown",
      "metadata": {
        "id": "view-in-github",
        "colab_type": "text"
      },
      "source": [
        "<a href=\"https://colab.research.google.com/github/andrewm4894/colabs/blob/master/pyfim_explore.ipynb\" target=\"_parent\"><img src=\"https://colab.research.google.com/assets/colab-badge.svg\" alt=\"Open In Colab\"/></a>"
      ]
    },
    {
      "cell_type": "code",
      "metadata": {
        "id": "LbMrmbQestAa"
      },
      "source": [
        "#!pip install pandas pyfim==6.28"
      ],
      "execution_count": 35,
      "outputs": []
    },
    {
      "cell_type": "code",
      "metadata": {
        "id": "20GxxD5bs5n8"
      },
      "source": [
        "import pandas as pd\n",
        "from fim import arules"
      ],
      "execution_count": 36,
      "outputs": []
    },
    {
      "cell_type": "code",
      "metadata": {
        "id": "SyWBp3jNQncL"
      },
      "source": [
        "# display docs\n",
        "??arules"
      ],
      "execution_count": 37,
      "outputs": []
    },
    {
      "cell_type": "code",
      "metadata": {
        "id": "V-47_PEsx3fh"
      },
      "source": [
        "# for more details visit here: https://borgelt.net/pyfim.html\n",
        "\n",
        "# inputs\n",
        "supp = 2 # minimum support of an assoc. rule   (default: 10)\n",
        "conf = 50 # minimum confidence of an assoc. rule (default: 80%)\n",
        "report = 'asC'"
      ],
      "execution_count": 38,
      "outputs": []
    },
    {
      "cell_type": "code",
      "metadata": {
        "id": "bzDDyFEmxG6X"
      },
      "source": [
        "dataset = [['Milk', 'Onion', 'Nutmeg', 'Kidney Beans', 'Eggs', 'Yogurt'],\n",
        "           ['Dill', 'Onion', 'Nutmeg', 'Kidney Beans', 'Eggs', 'Yogurt'],\n",
        "           ['Milk', 'Apple', 'Kidney Beans', 'Eggs'],\n",
        "           ['Milk', 'Unicorn', 'Corn', 'Kidney Beans', 'Yogurt'],\n",
        "           ['Corn', 'Onion', 'Onion', 'Kidney Beans', 'Ice cream', 'Eggs'],\n",
        "           ['Milk', 'Unicorn', 'Corn', 'Yogurt', 'Eggs'],\n",
        "           ['Milk', 'Unicorn', 'Eggs', 'Kidney Beans', 'Yogurt'],\n",
        "           ['Corn', 'Onion', 'Onion', 'Kidney Beans', 'Yogurt', 'Eggs'],\n",
        "           ['Corn', 'Yogurt', 'Onion', 'Kidney Beans', 'Ice cream', 'Eggs'],\n",
        "           ['Milk', 'Unicorn', 'Corn', 'Yogurt', 'Eggs'],\n",
        "           ]"
      ],
      "execution_count": 39,
      "outputs": []
    },
    {
      "cell_type": "code",
      "metadata": {
        "id": "dUju9t9fs5ir",
        "outputId": "34e7570a-fdf0-45d4-e584-644049dd4c85",
        "colab": {
          "base_uri": "https://localhost:8080/",
          "height": 34
        }
      },
      "source": [
        "# make dict for nicer looking column names\n",
        "report_colnames = {\n",
        "    'a': 'support_itemset_absolute',\n",
        "    's': 'support_itemset_relative',\n",
        "    'S': 'support_itemset_relative_pct',\n",
        "    'b': 'support_bodyset_absolute',\n",
        "    'x': 'support_bodyset_relative',\n",
        "    'X': 'support_bodyset_relative_pct',\n",
        "    'h': 'support_headitem_absolute',\n",
        "    'y': 'support_headitem_relative',\n",
        "    'Y': 'support_headitem_relative_pct',\n",
        "    'c': 'confidence',\n",
        "    'C': 'confidence_pct',\n",
        "    'l': 'lift',\n",
        "    'L': 'lift_pct',\n",
        "    'e': 'evaluation',\n",
        "    'E': 'evaluation_pct',\n",
        "    'Q': 'xx',\n",
        "    'S': 'support_emptyset',\n",
        "    }\n",
        "\n",
        "# run apriori\n",
        "result = arules(dataset, supp=supp, conf=conf, report=report)\n",
        "\n",
        "# make df of results\n",
        "colnames = ['consequent', 'antecedent'] + [report_colnames.get(k, k) for k in list(report)]\n",
        "df_rules = pd.DataFrame(result, columns=colnames)\n",
        "df_rules = df_rules.sort_values('support_itemset_absolute', ascending=False)\n",
        "print(df_rules.shape)"
      ],
      "execution_count": 40,
      "outputs": [
        {
          "output_type": "stream",
          "text": [
            "(484, 5)\n"
          ],
          "name": "stdout"
        }
      ]
    },
    {
      "cell_type": "code",
      "metadata": {
        "id": "I7B2HifTy80m",
        "outputId": "c1bbdc1d-d897-4870-c0bd-abb94b216a62",
        "colab": {
          "base_uri": "https://localhost:8080/",
          "height": 359
        }
      },
      "source": [
        "# look at some higher support rules\n",
        "df_rules.head(10)"
      ],
      "execution_count": 41,
      "outputs": [
        {
          "output_type": "execute_result",
          "data": {
            "text/html": [
              "<div>\n",
              "<style scoped>\n",
              "    .dataframe tbody tr th:only-of-type {\n",
              "        vertical-align: middle;\n",
              "    }\n",
              "\n",
              "    .dataframe tbody tr th {\n",
              "        vertical-align: top;\n",
              "    }\n",
              "\n",
              "    .dataframe thead th {\n",
              "        text-align: right;\n",
              "    }\n",
              "</style>\n",
              "<table border=\"1\" class=\"dataframe\">\n",
              "  <thead>\n",
              "    <tr style=\"text-align: right;\">\n",
              "      <th></th>\n",
              "      <th>consequent</th>\n",
              "      <th>antecedent</th>\n",
              "      <th>support_itemset_absolute</th>\n",
              "      <th>support_itemset_relative</th>\n",
              "      <th>confidence_pct</th>\n",
              "    </tr>\n",
              "  </thead>\n",
              "  <tbody>\n",
              "    <tr>\n",
              "      <th>0</th>\n",
              "      <td>Eggs</td>\n",
              "      <td>()</td>\n",
              "      <td>9</td>\n",
              "      <td>0.9</td>\n",
              "      <td>90.000000</td>\n",
              "    </tr>\n",
              "    <tr>\n",
              "      <th>3</th>\n",
              "      <td>Yogurt</td>\n",
              "      <td>()</td>\n",
              "      <td>8</td>\n",
              "      <td>0.8</td>\n",
              "      <td>80.000000</td>\n",
              "    </tr>\n",
              "    <tr>\n",
              "      <th>11</th>\n",
              "      <td>Kidney Beans</td>\n",
              "      <td>()</td>\n",
              "      <td>8</td>\n",
              "      <td>0.8</td>\n",
              "      <td>80.000000</td>\n",
              "    </tr>\n",
              "    <tr>\n",
              "      <th>2</th>\n",
              "      <td>Yogurt</td>\n",
              "      <td>(Eggs,)</td>\n",
              "      <td>7</td>\n",
              "      <td>0.7</td>\n",
              "      <td>77.777778</td>\n",
              "    </tr>\n",
              "    <tr>\n",
              "      <th>4</th>\n",
              "      <td>Eggs</td>\n",
              "      <td>(Kidney Beans,)</td>\n",
              "      <td>7</td>\n",
              "      <td>0.7</td>\n",
              "      <td>87.500000</td>\n",
              "    </tr>\n",
              "    <tr>\n",
              "      <th>5</th>\n",
              "      <td>Kidney Beans</td>\n",
              "      <td>(Eggs,)</td>\n",
              "      <td>7</td>\n",
              "      <td>0.7</td>\n",
              "      <td>77.777778</td>\n",
              "    </tr>\n",
              "    <tr>\n",
              "      <th>1</th>\n",
              "      <td>Eggs</td>\n",
              "      <td>(Yogurt,)</td>\n",
              "      <td>7</td>\n",
              "      <td>0.7</td>\n",
              "      <td>87.500000</td>\n",
              "    </tr>\n",
              "    <tr>\n",
              "      <th>10</th>\n",
              "      <td>Kidney Beans</td>\n",
              "      <td>(Yogurt,)</td>\n",
              "      <td>6</td>\n",
              "      <td>0.6</td>\n",
              "      <td>75.000000</td>\n",
              "    </tr>\n",
              "    <tr>\n",
              "      <th>29</th>\n",
              "      <td>Corn</td>\n",
              "      <td>()</td>\n",
              "      <td>6</td>\n",
              "      <td>0.6</td>\n",
              "      <td>60.000000</td>\n",
              "    </tr>\n",
              "    <tr>\n",
              "      <th>58</th>\n",
              "      <td>Milk</td>\n",
              "      <td>()</td>\n",
              "      <td>6</td>\n",
              "      <td>0.6</td>\n",
              "      <td>60.000000</td>\n",
              "    </tr>\n",
              "  </tbody>\n",
              "</table>\n",
              "</div>"
            ],
            "text/plain": [
              "      consequent       antecedent  ...  support_itemset_relative  confidence_pct\n",
              "0           Eggs               ()  ...                       0.9       90.000000\n",
              "3         Yogurt               ()  ...                       0.8       80.000000\n",
              "11  Kidney Beans               ()  ...                       0.8       80.000000\n",
              "2         Yogurt          (Eggs,)  ...                       0.7       77.777778\n",
              "4           Eggs  (Kidney Beans,)  ...                       0.7       87.500000\n",
              "5   Kidney Beans          (Eggs,)  ...                       0.7       77.777778\n",
              "1           Eggs        (Yogurt,)  ...                       0.7       87.500000\n",
              "10  Kidney Beans        (Yogurt,)  ...                       0.6       75.000000\n",
              "29          Corn               ()  ...                       0.6       60.000000\n",
              "58          Milk               ()  ...                       0.6       60.000000\n",
              "\n",
              "[10 rows x 5 columns]"
            ]
          },
          "metadata": {
            "tags": []
          },
          "execution_count": 41
        }
      ]
    },
    {
      "cell_type": "code",
      "metadata": {
        "id": "CJY1h5f8y8jm",
        "outputId": "22df6fe0-1772-4a1d-f8f4-458252ab1494",
        "colab": {
          "base_uri": "https://localhost:8080/",
          "height": 359
        }
      },
      "source": [
        "# look at some lower support rules\n",
        "df_rules.tail(10)"
      ],
      "execution_count": 42,
      "outputs": [
        {
          "output_type": "execute_result",
          "data": {
            "text/html": [
              "<div>\n",
              "<style scoped>\n",
              "    .dataframe tbody tr th:only-of-type {\n",
              "        vertical-align: middle;\n",
              "    }\n",
              "\n",
              "    .dataframe tbody tr th {\n",
              "        vertical-align: top;\n",
              "    }\n",
              "\n",
              "    .dataframe thead th {\n",
              "        text-align: right;\n",
              "    }\n",
              "</style>\n",
              "<table border=\"1\" class=\"dataframe\">\n",
              "  <thead>\n",
              "    <tr style=\"text-align: right;\">\n",
              "      <th></th>\n",
              "      <th>consequent</th>\n",
              "      <th>antecedent</th>\n",
              "      <th>support_itemset_absolute</th>\n",
              "      <th>support_itemset_relative</th>\n",
              "      <th>confidence_pct</th>\n",
              "    </tr>\n",
              "  </thead>\n",
              "  <tbody>\n",
              "    <tr>\n",
              "      <th>294</th>\n",
              "      <td>Yogurt</td>\n",
              "      <td>(Ice cream, Kidney Beans)</td>\n",
              "      <td>1</td>\n",
              "      <td>0.1</td>\n",
              "      <td>50.0</td>\n",
              "    </tr>\n",
              "    <tr>\n",
              "      <th>295</th>\n",
              "      <td>Kidney Beans</td>\n",
              "      <td>(Ice cream, Yogurt)</td>\n",
              "      <td>1</td>\n",
              "      <td>0.1</td>\n",
              "      <td>100.0</td>\n",
              "    </tr>\n",
              "    <tr>\n",
              "      <th>112</th>\n",
              "      <td>Yogurt</td>\n",
              "      <td>(Onion, Milk, Kidney Beans, Eggs)</td>\n",
              "      <td>1</td>\n",
              "      <td>0.1</td>\n",
              "      <td>100.0</td>\n",
              "    </tr>\n",
              "    <tr>\n",
              "      <th>111</th>\n",
              "      <td>Eggs</td>\n",
              "      <td>(Onion, Milk, Kidney Beans, Yogurt)</td>\n",
              "      <td>1</td>\n",
              "      <td>0.1</td>\n",
              "      <td>100.0</td>\n",
              "    </tr>\n",
              "    <tr>\n",
              "      <th>110</th>\n",
              "      <td>Kidney Beans</td>\n",
              "      <td>(Onion, Milk, Eggs)</td>\n",
              "      <td>1</td>\n",
              "      <td>0.1</td>\n",
              "      <td>100.0</td>\n",
              "    </tr>\n",
              "    <tr>\n",
              "      <th>299</th>\n",
              "      <td>Eggs</td>\n",
              "      <td>(Ice cream, Corn, Yogurt)</td>\n",
              "      <td>1</td>\n",
              "      <td>0.1</td>\n",
              "      <td>100.0</td>\n",
              "    </tr>\n",
              "    <tr>\n",
              "      <th>300</th>\n",
              "      <td>Yogurt</td>\n",
              "      <td>(Ice cream, Corn, Eggs)</td>\n",
              "      <td>1</td>\n",
              "      <td>0.1</td>\n",
              "      <td>50.0</td>\n",
              "    </tr>\n",
              "    <tr>\n",
              "      <th>301</th>\n",
              "      <td>Corn</td>\n",
              "      <td>(Ice cream, Yogurt, Eggs)</td>\n",
              "      <td>1</td>\n",
              "      <td>0.1</td>\n",
              "      <td>100.0</td>\n",
              "    </tr>\n",
              "    <tr>\n",
              "      <th>302</th>\n",
              "      <td>Yogurt</td>\n",
              "      <td>(Ice cream, Corn)</td>\n",
              "      <td>1</td>\n",
              "      <td>0.1</td>\n",
              "      <td>50.0</td>\n",
              "    </tr>\n",
              "    <tr>\n",
              "      <th>483</th>\n",
              "      <td>Milk</td>\n",
              "      <td>(Apple,)</td>\n",
              "      <td>1</td>\n",
              "      <td>0.1</td>\n",
              "      <td>100.0</td>\n",
              "    </tr>\n",
              "  </tbody>\n",
              "</table>\n",
              "</div>"
            ],
            "text/plain": [
              "       consequent  ... confidence_pct\n",
              "294        Yogurt  ...           50.0\n",
              "295  Kidney Beans  ...          100.0\n",
              "112        Yogurt  ...          100.0\n",
              "111          Eggs  ...          100.0\n",
              "110  Kidney Beans  ...          100.0\n",
              "299          Eggs  ...          100.0\n",
              "300        Yogurt  ...           50.0\n",
              "301          Corn  ...          100.0\n",
              "302        Yogurt  ...           50.0\n",
              "483          Milk  ...          100.0\n",
              "\n",
              "[10 rows x 5 columns]"
            ]
          },
          "metadata": {
            "tags": []
          },
          "execution_count": 42
        }
      ]
    }
  ]
}